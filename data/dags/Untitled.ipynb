{
 "cells": [
  {
   "cell_type": "code",
   "execution_count": 4,
   "id": "b7c13bd2",
   "metadata": {},
   "outputs": [
    {
     "data": {
      "text/html": [
       "<pre style=\"white-space:pre;overflow-x:auto;line-height:normal;font-family:Menlo,'DejaVu Sans Mono',consolas,'Courier New',monospace\"><span style=\"color: #808000; text-decoration-color: #808000; font-weight: bold\">/tmp/ipykernel_21846/1356148395.py:</span><span style=\"color: #808000; text-decoration-color: #808000; font-weight: bold\">29</span><span style=\"color: #808000; text-decoration-color: #808000; font-weight: bold\"> RemovedInAirflow3Warning</span><span style=\"color: #808000; text-decoration-color: #808000\">: Param `schedule_interval` is deprecated and will be removed in a future release. Please use `schedule` instead.</span>\n",
       "</pre>\n"
      ],
      "text/plain": [
       "\u001b[1;33m/tmp/ipykernel_21846/\u001b[0m\u001b[1;33m1356148395.py\u001b[0m\u001b[1;33m:\u001b[0m\u001b[1;33m29\u001b[0m\u001b[1;33m RemovedInAirflow3Warning\u001b[0m\u001b[33m: Param `schedule_interval` is deprecated and will be removed in a future release. Please use `schedule` instead.\u001b[0m\n"
      ]
     },
     "metadata": {},
     "output_type": "display_data"
    }
   ],
   "source": [
    "from airflow import DAG\n",
    "from airflow.operators.python import PythonOperator\n",
    "from datetime import datetime\n",
    "import pandas as pd\n",
    "import sqlite3\n",
    "\n",
    "# Define the ETL functions\n",
    "def extract_data():\n",
    "    input_path = '/home/azizi/airflow_home/data/raw/sentiment-analysis.csv'\n",
    "    df = pd.read_csv(input_path)\n",
    "    df.to_csv('/home/azizi/airflow_home/data/processed/extracted.csv', index=False)\n",
    "\n",
    "def transform_data():\n",
    "    input_path = '/home/azizi/airflow_home/data/processed/extracted.csv'\n",
    "    output_path = '/home/azizi/airflow_home/data/processed/transformed.csv'\n",
    "    df = pd.read_csv(input_path)\n",
    "    df['Sentiment'] = df['Feedback'].apply(lambda x: 'Positive' if 'Pos' in x.lower() else 'Negative')\n",
    "    df.to_csv(output_path, index=False)\n",
    "\n",
    "def load_data():\n",
    "    input_path = '/home/azizi/airflow_home/data/processed/transformed.csv'\n",
    "    conn = sqlite3.connect('/home/azizi/airflow_home/data/processed/feedback.db')\n",
    "    df = pd.read_csv(input_path)\n",
    "    df.to_sql('feedback', conn, if_exists='replace', index=False)\n",
    "    conn.close()\n",
    "\n",
    "# Define the DAG\n",
    "default_args = {'start_date': datetime(2025, 1, 1)}\n",
    "with DAG('feedback_etl', schedule_interval='@daily', default_args=default_args, catchup=False) as dag:\n",
    "    extract_task = PythonOperator(task_id='extract_data', python_callable=extract_data)\n",
    "    transform_task = PythonOperator(task_id='transform_data', python_callable=transform_data)\n",
    "    load_task = PythonOperator(task_id='load_data', python_callable=load_data)\n",
    "\n",
    "    extract_task >> transform_task >> load_task\n"
   ]
  },
  {
   "cell_type": "code",
   "execution_count": null,
   "id": "fc3087bf",
   "metadata": {},
   "outputs": [],
   "source": []
  },
  {
   "cell_type": "code",
   "execution_count": null,
   "id": "e6e76461",
   "metadata": {},
   "outputs": [],
   "source": []
  }
 ],
 "metadata": {
  "kernelspec": {
   "display_name": "Python 3 (ipykernel)",
   "language": "python",
   "name": "python3"
  },
  "language_info": {
   "codemirror_mode": {
    "name": "ipython",
    "version": 3
   },
   "file_extension": ".py",
   "mimetype": "text/x-python",
   "name": "python",
   "nbconvert_exporter": "python",
   "pygments_lexer": "ipython3",
   "version": "3.9.12"
  }
 },
 "nbformat": 4,
 "nbformat_minor": 5
}
